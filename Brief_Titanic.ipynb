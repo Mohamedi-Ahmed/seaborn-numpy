{
 "cells": [
  {
   "cell_type": "markdown",
   "metadata": {},
   "source": [
    "## Dataset\n",
    "\n",
    "On considère pour ce brief , le dataset Titanic qui représente les données des passagers (utilisé généralement pour prédire les taux de survie des passagers.) \n",
    "\n",
    "Le dataset Titanic contient plusieurs colonnes décrivant diverses informations sur les passagers du Titanic, leur classe, leur âge, leur sexe, leur tarif, etc..\n",
    "\n",
    "Voici la description des principales colonnes de ce dataset afin de pouvoir utiliser ces données pour effectuer diverses analyses et explorations :\n",
    "\n",
    "1. **survived :** Cette colonne indique si le passager a survécu ou non au naufrage du Titanic. Les valeurs possibles sont 0 (n'est pas survécu) et 1 (a survécu).\n",
    "\n",
    "2. **pclass :** Cette colonne représente la classe du billet du passager, où 1 correspond à la première classe, 2 à la deuxième classe et 3 à la troisième classe.\n",
    "\n",
    "3. **sex :** Cette colonne indique le sexe du passager, c'est-à-dire s'il s'agit d'un homme ou d'une femme.\n",
    "\n",
    "4. **age :** La colonne 'age' contient l'âge du passager. Il peut y avoir des valeurs manquantes dans cette colonne.\n",
    "\n",
    "5. **sibsp :** Cette colonne représente le nombre de frères, de sœurs, d'époux ou d'épouses du passager à bord du Titanic.\n",
    "\n",
    "6. **parch :** La colonne 'parch' indique le nombre de parents ou d'enfants du passager à bord du Titanic.\n",
    "\n",
    "7. **fare :** Cette colonne donne le tarif payé par le passager pour son billet.\n",
    "\n",
    "8. **embarked :** La colonne 'embarked' indique le port d'embarquement du passager. Les valeurs possibles sont C (Cherbourg), Q (Queenstown) et S (Southampton).\n",
    "\n",
    "9. **class :** Cette colonne est similaire à 'pclass' et représente également la classe du billet, mais sous forme de chaînes de caractères (1ère, 2ème, 3ème).\n",
    "\n",
    "10. **who :** La colonne 'who' catégorise les passagers en trois groupes : homme, femme ou enfant.\n",
    "\n",
    "11. **adult_male :** Cette colonne indique si le passager est un homme adulte (True/False).\n",
    "\n",
    "12. **deck :** La colonne 'deck' contient des informations sur le pont où le passager avait sa cabine. Il peut y avoir des valeurs manquantes dans cette colonne.\n",
    "\n",
    "13. **embark_town :** Cette colonne est similaire à 'embarked' et indique également le nom de la ville d'embarquement.\n",
    "\n",
    "14. **alive :** Cette colonne est similaire à 'survived' et indique si le passager est en vie (yes) ou non (no).\n",
    "\n",
    "15. **alone :** La colonne 'alone' indique si le passager voyageait seul (True/False).\n",
    "\n",
    "\n",
    "\n",
    "Objectifs:\n",
    "\n",
    "- charger le dataset et vérifier la qualité des données (nombre de lignes, nombre et types de colonnes, valeurs manquantes, valeurs aberrantes..)\n",
    "\n",
    "-Bonus: faire une petite analyse exploratoire du dataset (avec eventuellement une visualisation)..\n"
   ]
  },
  {
   "cell_type": "markdown",
   "metadata": {},
   "source": [
    "# Projet Titanic  "
   ]
  },
  {
   "cell_type": "code",
   "execution_count": 651,
   "metadata": {},
   "outputs": [],
   "source": [
    "import seaborn as sns\n",
    "import matplotlib.pyplot as plt\n",
    "%matplotlib inline\n",
    "import pandas as pd\n",
    "import numpy as np"
   ]
  },
  {
   "cell_type": "code",
   "execution_count": 652,
   "metadata": {},
   "outputs": [],
   "source": [
    "sns.set_style('whitegrid')"
   ]
  },
  {
   "cell_type": "code",
   "execution_count": 653,
   "metadata": {},
   "outputs": [],
   "source": [
    "titanic_df = sns.load_dataset('titanic')"
   ]
  },
  {
   "cell_type": "code",
   "execution_count": 654,
   "metadata": {
    "scrolled": true
   },
   "outputs": [
    {
     "data": {
      "text/html": [
       "<div>\n",
       "<style scoped>\n",
       "    .dataframe tbody tr th:only-of-type {\n",
       "        vertical-align: middle;\n",
       "    }\n",
       "\n",
       "    .dataframe tbody tr th {\n",
       "        vertical-align: top;\n",
       "    }\n",
       "\n",
       "    .dataframe thead th {\n",
       "        text-align: right;\n",
       "    }\n",
       "</style>\n",
       "<table border=\"1\" class=\"dataframe\">\n",
       "  <thead>\n",
       "    <tr style=\"text-align: right;\">\n",
       "      <th></th>\n",
       "      <th>survived</th>\n",
       "      <th>pclass</th>\n",
       "      <th>sex</th>\n",
       "      <th>age</th>\n",
       "      <th>sibsp</th>\n",
       "      <th>parch</th>\n",
       "      <th>fare</th>\n",
       "      <th>embarked</th>\n",
       "      <th>class</th>\n",
       "      <th>who</th>\n",
       "      <th>adult_male</th>\n",
       "      <th>deck</th>\n",
       "      <th>embark_town</th>\n",
       "      <th>alive</th>\n",
       "      <th>alone</th>\n",
       "    </tr>\n",
       "  </thead>\n",
       "  <tbody>\n",
       "    <tr>\n",
       "      <th>0</th>\n",
       "      <td>0</td>\n",
       "      <td>3</td>\n",
       "      <td>male</td>\n",
       "      <td>22.0</td>\n",
       "      <td>1</td>\n",
       "      <td>0</td>\n",
       "      <td>7.2500</td>\n",
       "      <td>S</td>\n",
       "      <td>Third</td>\n",
       "      <td>man</td>\n",
       "      <td>True</td>\n",
       "      <td>NaN</td>\n",
       "      <td>Southampton</td>\n",
       "      <td>no</td>\n",
       "      <td>False</td>\n",
       "    </tr>\n",
       "    <tr>\n",
       "      <th>1</th>\n",
       "      <td>1</td>\n",
       "      <td>1</td>\n",
       "      <td>female</td>\n",
       "      <td>38.0</td>\n",
       "      <td>1</td>\n",
       "      <td>0</td>\n",
       "      <td>71.2833</td>\n",
       "      <td>C</td>\n",
       "      <td>First</td>\n",
       "      <td>woman</td>\n",
       "      <td>False</td>\n",
       "      <td>C</td>\n",
       "      <td>Cherbourg</td>\n",
       "      <td>yes</td>\n",
       "      <td>False</td>\n",
       "    </tr>\n",
       "    <tr>\n",
       "      <th>2</th>\n",
       "      <td>1</td>\n",
       "      <td>3</td>\n",
       "      <td>female</td>\n",
       "      <td>26.0</td>\n",
       "      <td>0</td>\n",
       "      <td>0</td>\n",
       "      <td>7.9250</td>\n",
       "      <td>S</td>\n",
       "      <td>Third</td>\n",
       "      <td>woman</td>\n",
       "      <td>False</td>\n",
       "      <td>NaN</td>\n",
       "      <td>Southampton</td>\n",
       "      <td>yes</td>\n",
       "      <td>True</td>\n",
       "    </tr>\n",
       "    <tr>\n",
       "      <th>3</th>\n",
       "      <td>1</td>\n",
       "      <td>1</td>\n",
       "      <td>female</td>\n",
       "      <td>35.0</td>\n",
       "      <td>1</td>\n",
       "      <td>0</td>\n",
       "      <td>53.1000</td>\n",
       "      <td>S</td>\n",
       "      <td>First</td>\n",
       "      <td>woman</td>\n",
       "      <td>False</td>\n",
       "      <td>C</td>\n",
       "      <td>Southampton</td>\n",
       "      <td>yes</td>\n",
       "      <td>False</td>\n",
       "    </tr>\n",
       "    <tr>\n",
       "      <th>4</th>\n",
       "      <td>0</td>\n",
       "      <td>3</td>\n",
       "      <td>male</td>\n",
       "      <td>35.0</td>\n",
       "      <td>0</td>\n",
       "      <td>0</td>\n",
       "      <td>8.0500</td>\n",
       "      <td>S</td>\n",
       "      <td>Third</td>\n",
       "      <td>man</td>\n",
       "      <td>True</td>\n",
       "      <td>NaN</td>\n",
       "      <td>Southampton</td>\n",
       "      <td>no</td>\n",
       "      <td>True</td>\n",
       "    </tr>\n",
       "  </tbody>\n",
       "</table>\n",
       "</div>"
      ],
      "text/plain": [
       "   survived  pclass     sex   age  sibsp  parch     fare embarked  class  \\\n",
       "0         0       3    male  22.0      1      0   7.2500        S  Third   \n",
       "1         1       1  female  38.0      1      0  71.2833        C  First   \n",
       "2         1       3  female  26.0      0      0   7.9250        S  Third   \n",
       "3         1       1  female  35.0      1      0  53.1000        S  First   \n",
       "4         0       3    male  35.0      0      0   8.0500        S  Third   \n",
       "\n",
       "     who  adult_male deck  embark_town alive  alone  \n",
       "0    man        True  NaN  Southampton    no  False  \n",
       "1  woman       False    C    Cherbourg   yes  False  \n",
       "2  woman       False  NaN  Southampton   yes   True  \n",
       "3  woman       False    C  Southampton   yes  False  \n",
       "4    man        True  NaN  Southampton    no   True  "
      ]
     },
     "execution_count": 654,
     "metadata": {},
     "output_type": "execute_result"
    }
   ],
   "source": [
    "titanic_df.head()"
   ]
  },
  {
   "cell_type": "code",
   "execution_count": 655,
   "metadata": {},
   "outputs": [
    {
     "name": "stdout",
     "output_type": "stream",
     "text": [
      "<class 'pandas.core.frame.DataFrame'>\n",
      "RangeIndex: 891 entries, 0 to 890\n",
      "Data columns (total 15 columns):\n",
      " #   Column       Non-Null Count  Dtype   \n",
      "---  ------       --------------  -----   \n",
      " 0   survived     891 non-null    int64   \n",
      " 1   pclass       891 non-null    int64   \n",
      " 2   sex          891 non-null    object  \n",
      " 3   age          714 non-null    float64 \n",
      " 4   sibsp        891 non-null    int64   \n",
      " 5   parch        891 non-null    int64   \n",
      " 6   fare         891 non-null    float64 \n",
      " 7   embarked     889 non-null    object  \n",
      " 8   class        891 non-null    category\n",
      " 9   who          891 non-null    object  \n",
      " 10  adult_male   891 non-null    bool    \n",
      " 11  deck         203 non-null    category\n",
      " 12  embark_town  889 non-null    object  \n",
      " 13  alive        891 non-null    object  \n",
      " 14  alone        891 non-null    bool    \n",
      "dtypes: bool(2), category(2), float64(2), int64(4), object(5)\n",
      "memory usage: 80.7+ KB\n"
     ]
    }
   ],
   "source": [
    "titanic_df.info()"
   ]
  },
  {
   "cell_type": "markdown",
   "metadata": {},
   "source": [
    "## Partie 1: Prise en main du Dataset"
   ]
  },
  {
   "cell_type": "markdown",
   "metadata": {},
   "source": [
    "###  Vérifier si Données Manquantes : \n",
    "\n",
    "Des valeurs manquantes peuvent être présentes dans certaines colonnes, par exemple, l'âge de certains passagers ..\n",
    "\n",
    "vérifier les valeurs manquantes des colonnes et proposer une solution pour y remédier."
   ]
  },
  {
   "cell_type": "code",
   "execution_count": 656,
   "metadata": {},
   "outputs": [
    {
     "name": "stdout",
     "output_type": "stream",
     "text": [
      "survived         0\n",
      "pclass           0\n",
      "sex              0\n",
      "age            177\n",
      "sibsp            0\n",
      "parch            0\n",
      "fare             0\n",
      "embarked         2\n",
      "class            0\n",
      "who              0\n",
      "adult_male       0\n",
      "deck           688\n",
      "embark_town      2\n",
      "alive            0\n",
      "alone            0\n",
      "dtype: int64 \n",
      "\n",
      "La liste des colonnes de la dataframe avec des elements manquants : ['age', 'embarked', 'deck', 'embark_town']\n",
      "\n",
      "Les solutions possibles pour gerer cette situation sont :\n",
      " 1) supprimer les lignes avec des valeurs manquantes\n",
      " 2) remplacer les valeurs manquantes par des moyennes\n",
      "\n",
      "Choix de la solution 1 :\n",
      "\n",
      "La liste des colonnes de la dataframe avec des elements manquants après traitement : []\n",
      "\n"
     ]
    }
   ],
   "source": [
    "# Détection de valeurs manquantes\n",
    "print(titanic_df.isnull().sum(),\"\\n\")\n",
    "\n",
    "print(f\"La liste des colonnes de la dataframe avec des elements manquants : {list(titanic_df.columns[titanic_df.isnull().any()])}\\n\")\n",
    "print(\"Les solutions possibles pour gerer cette situation sont :\\n 1) supprimer les lignes avec des valeurs manquantes\\n 2) remplacer les valeurs manquantes par des moyennes\\n\")\n",
    "\n",
    "print(\"Choix de la solution 1 :\\n\")\n",
    "titanic_df.dropna(how=\"any\", inplace= True)\n",
    "print(f\"La liste des colonnes de la dataframe avec des elements manquants après traitement : {list(titanic_df.columns[titanic_df.isnull().any()])}\\n\")\n"
   ]
  },
  {
   "cell_type": "markdown",
   "metadata": {},
   "source": [
    "### Vérifier si Incohérences dans les Valeurs \n",
    "\n",
    "Il peut y avoir des incohérences dans les données, comme des âges négatifs, des tarifs négatifs, ou des numéros de cabine incorrects..\n",
    "\n"
   ]
  },
  {
   "cell_type": "code",
   "execution_count": 657,
   "metadata": {},
   "outputs": [
    {
     "name": "stdout",
     "output_type": "stream",
     "text": [
      "         survived      pclass         age       sibsp       parch        fare\n",
      "count  182.000000  182.000000  182.000000  182.000000  182.000000  182.000000\n",
      "mean     0.675824    1.192308   35.623187    0.467033    0.478022   78.919735\n",
      "std      0.469357    0.516411   15.671615    0.645007    0.755869   76.490774\n",
      "min      0.000000    1.000000    0.920000    0.000000    0.000000    0.000000\n",
      "25%      0.000000    1.000000   24.000000    0.000000    0.000000   29.700000\n",
      "50%      1.000000    1.000000   36.000000    0.000000    0.000000   57.000000\n",
      "75%      1.000000    1.000000   47.750000    1.000000    1.000000   90.000000\n",
      "max      1.000000    3.000000   80.000000    3.000000    4.000000  512.329200\n",
      "\n",
      " D'apres ce tableau, il n y a pas de valeurs incoherentes.\n"
     ]
    }
   ],
   "source": [
    "print(titanic_df.describe())\n",
    "print(\"\\n D'apres ce tableau, il n y a pas de valeurs incoherentes.\")"
   ]
  },
  {
   "cell_type": "markdown",
   "metadata": {},
   "source": [
    "### Verifier les données Aberrantes (Outliers)\n",
    "\n",
    "Des valeurs aberrantes peuvent être présentes dans certaines colonnes, par exemple, des tarifs extrêmement élevés ou des âges très élevés.\n",
    "\n"
   ]
  },
  {
   "cell_type": "code",
   "execution_count": 658,
   "metadata": {},
   "outputs": [
    {
     "name": "stdout",
     "output_type": "stream",
     "text": [
      "    survived pclass   age sibsp parch     fare survived_bool pclass_bool  \\\n",
      "10         1      3   4.0     1     1  16.7000         False        True   \n",
      "75         0      3  25.0     0     0   7.6500         False        True   \n",
      "205        0      3   2.0     0     1  10.4625         False        True   \n",
      "251        0      3  29.0     1     1  10.4625         False        True   \n",
      "394        1      3  24.0     0     2  16.7000         False        True   \n",
      "\n",
      "     age_bool  sibsp_bool  parch_bool  fare_bool  \n",
      "10      False       False       False      False  \n",
      "75      False       False       False      False  \n",
      "205     False       False       False      False  \n",
      "251     False       False       False      False  \n",
      "394     False       False       False      False  \n"
     ]
    },
    {
     "name": "stderr",
     "output_type": "stream",
     "text": [
      "C:\\Users\\moham\\AppData\\Local\\Temp\\ipykernel_40572\\1315744374.py:12: FutureWarning: The behavior of DataFrame concatenation with empty or all-NA entries is deprecated. In a future version, this will no longer exclude empty or all-NA columns when determining the result dtypes. To retain the old behavior, exclude the relevant entries before the concat operation.\n",
      "  df_data = pd.concat([df_data, sub_df_titanic], axis=0)\n",
      "C:\\Users\\moham\\AppData\\Local\\Temp\\ipykernel_40572\\1315744374.py:15: FutureWarning: Downcasting object dtype arrays on .fillna, .ffill, .bfill is deprecated and will change in a future version. Call result.infer_objects(copy=False) instead. To opt-in to the future behavior, set `pd.set_option('future.no_silent_downcasting', True)`\n",
      "  df_data.fillna(False, inplace=True)\n"
     ]
    }
   ],
   "source": [
    "df_numeric = titanic_df.select_dtypes(include=np.number)\n",
    "df_data = pd.DataFrame(columns=df_numeric.columns)\n",
    "\n",
    "\n",
    "#print(df_numeric.columns)\n",
    "for colname in df_numeric.columns :\n",
    "    condition = df_numeric[colname] > df_numeric[colname].mean() + 3 * df_numeric[colname].std()\n",
    "    df_numeric[str(colname)+\"_bool\"] = condition\n",
    "    sub_df_titanic = df_numeric[condition]\n",
    "\n",
    "    if not sub_df_titanic.empty :\n",
    "        df_data = pd.concat([df_data, sub_df_titanic], axis=0)\n",
    "\n",
    "    \n",
    "df_data.fillna(False, inplace=True)\n",
    "print(df_data.head())\n",
    "#df_data.to_csv(\"testCSV.csv\")"
   ]
  },
  {
   "cell_type": "markdown",
   "metadata": {},
   "source": [
    "### Vérifier les Doublons \n",
    "\n",
    "\n",
    "Il peut y avoir des lignes en double dans le dataset, ce qui signifie que les mêmes données apparaissent plusieurs fois et il faut donc les supprimer"
   ]
  },
  {
   "cell_type": "code",
   "execution_count": 659,
   "metadata": {},
   "outputs": [
    {
     "name": "stdout",
     "output_type": "stream",
     "text": [
      "Il y a 182 ligne(s) dans la dataframe avant traitement\n",
      "\n",
      "Il y a 1 ligne(s) dupliquee(s)\n",
      "\n",
      "Lignes en double :\n",
      "     survived  pclass     sex   age  sibsp  parch  fare embarked  class  \\\n",
      "641         1       1  female  24.0      0      0  69.3        C  First   \n",
      "\n",
      "       who  adult_male deck embark_town alive  alone  \n",
      "641  woman       False    B   Cherbourg   yes   True  \n",
      "\n",
      "Il y a 181 ligne(s) dans la dataframe apres traitement\n"
     ]
    }
   ],
   "source": [
    "# Vérifier les lignes en double dans le DataFrame\n",
    "print(f\"Il y a {titanic_df.shape[0]} ligne(s) dans la dataframe avant traitement\")\n",
    "duplicates = titanic_df.duplicated()\n",
    "\n",
    "# Sélectionner les lignes en double dans le DataFrame\n",
    "duplicated_rows = titanic_df[duplicates]\n",
    "print(f\"\\nIl y a {len(duplicated_rows)} ligne(s) dupliquee(s)\")\n",
    "\n",
    "# Affichage des lignes en double\n",
    "print(\"\\nLignes en double :\")\n",
    "print(duplicated_rows)\n",
    "\n",
    "titanic_df.drop(duplicated_rows.index, inplace= True)\n",
    "print(f\"\\nIl y a {titanic_df.shape[0]} ligne(s) dans la dataframe apres traitement\")\n"
   ]
  },
  {
   "cell_type": "markdown",
   "metadata": {},
   "source": [
    "### Vérifier si colonnes Inutiles \n",
    "\n",
    "Certaines colonnes peuvent contenir des données redondantes ou inutiles pour l'analyse."
   ]
  },
  {
   "cell_type": "code",
   "execution_count": 660,
   "metadata": {},
   "outputs": [],
   "source": [
    "#TBD"
   ]
  },
  {
   "cell_type": "markdown",
   "metadata": {},
   "source": [
    "## Bonus\n",
    "\n",
    "**Continuez l'exploration du dataset Titanic avec d'autres axes d'analyse **\n"
   ]
  },
  {
   "cell_type": "markdown",
   "metadata": {},
   "source": [
    "\n",
    "1-Quelle est la répartition des passagers par classe (1ère, 2ème, 3ème) à bord du Titanic ?\n",
    "\n",
    "2- Quelle est la répartition des passagers par sexe à bord du Titanic ?\n",
    "\n",
    "3- Quel était l'âge moyen des passagers à bord du Titanic ? Y avait-il des passagers très jeunes ou très âgés ?\n",
    "\n",
    "4- Combien de passagers ont survécu au naufrage du Titanic ? Quelle était leur répartition par classe, sexe et âge ?\n"
   ]
  },
  {
   "cell_type": "code",
   "execution_count": 719,
   "metadata": {},
   "outputs": [
    {
     "data": {
      "text/plain": [
       "Text(0.5, 1.0, 'Passengers distribution by class on Titanic Boat')"
      ]
     },
     "execution_count": 719,
     "metadata": {},
     "output_type": "execute_result"
    },
    {
     "data": {
      "image/png": "[encoded data removed]",
      "text/plain": [
       "<Figure size 640x480 with 1 Axes>"
      ]
     },
     "metadata": {},
     "output_type": "display_data"
    }
   ],
   "source": [
    "sns.boxplot(data=titanic_df, x=\"class\", y=\"age\", hue=\"sex\").set_title('Passengers distribution by class on Titanic Boat')\n"
   ]
  },
  {
   "cell_type": "code",
   "execution_count": 720,
   "metadata": {},
   "outputs": [
    {
     "name": "stdout",
     "output_type": "stream",
     "text": [
      "sex\n",
      "male      94\n",
      "female    87\n",
      "Name: count, dtype: int64\n"
     ]
    },
    {
     "data": {
      "image/png": "[encoded data removed]",
      "text/plain": [
       "<Figure size 640x480 with 1 Axes>"
      ]
     },
     "metadata": {},
     "output_type": "display_data"
    }
   ],
   "source": [
    "sex_distribution = titanic_df[\"sex\"].value_counts()\n",
    "print(sex_distribution)\n",
    "colors = sns.color_palette('pastel')[0:5]\n",
    "plt.pie(sex_distribution, labels=[\"male\",\"female\"], colors = colors, autopct='%.0f%%')\n",
    "plt.title(\"Sex repartition on Titanic Boat\")\n",
    "plt.show()"
   ]
  },
  {
   "cell_type": "code",
   "execution_count": 747,
   "metadata": {},
   "outputs": [
    {
     "name": "stdout",
     "output_type": "stream",
     "text": [
      "L'age moyen au sein du Titanic etait de 36.0 ans.\n",
      "La personne la plus vielle avait 80.0 ans et la plus jeune avait 0.92 ans.\n"
     ]
    },
    {
     "data": {
      "image/png": "[encoded data removed]",
      "text/plain": [
       "<Figure size 640x480 with 1 Axes>"
      ]
     },
     "metadata": {},
     "output_type": "display_data"
    }
   ],
   "source": [
    "print(f\"L'age moyen au sein du Titanic etait de {round(titanic_df[\"age\"].mean(),0)} ans.\")\n",
    "sns.boxplot(data=titanic_df[\"age\"])\n",
    "titanic_df[\"age\"].describe()\n",
    "print(f\"La personne la plus vielle avait {titanic_df[\"age\"].max()} ans et la plus jeune avait {titanic_df[\"age\"].min()} ans.\")"
   ]
  },
  {
   "cell_type": "code",
   "execution_count": 748,
   "metadata": {},
   "outputs": [
    {
     "name": "stdout",
     "output_type": "stream",
     "text": [
      "Il y a 181 passagers qui ont survecu au nauvrage du Titanic\n"
     ]
    },
    {
     "data": {
      "text/plain": [
       "Text(0.5, 1.0, 'Survivors of Titanic distribution by class, age and sex')"
      ]
     },
     "execution_count": 748,
     "metadata": {},
     "output_type": "execute_result"
    },
    {
     "data": {
      "image/png": "[encoded data removed]",
      "text/plain": [
       "<Figure size 640x480 with 1 Axes>"
      ]
     },
     "metadata": {},
     "output_type": "display_data"
    }
   ],
   "source": [
    "print(f\"Il y a {titanic_df[\"alive\"].count()} passagers qui ont survecu au nauvrage du Titanic\")\n",
    "sns.boxplot(data=titanic_df, x=\"class\", y=\"age\", hue=\"alive\").set_title('Survivors of Titanic distribution by class, age and sex')"
   ]
  }
 ],
 "metadata": {
  "kernelspec": {
   "display_name": "Python 3 (ipykernel)",
   "language": "python",
   "name": "python3"
  },
  "language_info": {
   "codemirror_mode": {
    "name": "ipython",
    "version": 3
   },
   "file_extension": ".py",
   "mimetype": "text/x-python",
   "name": "python",
   "nbconvert_exporter": "python",
   "pygments_lexer": "ipython3",
   "version": "3.12.3"
  },
  "toc": {
   "base_numbering": 1,
   "nav_menu": {},
   "number_sections": true,
   "sideBar": true,
   "skip_h1_title": true,
   "title_cell": "Table of Contents",
   "title_sidebar": "Contents",
   "toc_cell": false,
   "toc_position": {
    "height": "617.333px",
    "left": "21px",
    "top": "154.806px",
    "width": "182.727px"
   },
   "toc_section_display": true,
   "toc_window_display": false
  }
 },
 "nbformat": 4,
 "nbformat_minor": 1
}
